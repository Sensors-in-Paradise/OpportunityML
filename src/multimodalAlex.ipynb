{
 "cells": [
  {
   "cell_type": "code",
   "execution_count": 1,
   "metadata": {},
   "outputs": [
    {
     "name": "stderr",
     "output_type": "stream",
     "text": [
      "2022-05-25 01:01:43.615767: W tensorflow/stream_executor/platform/default/dso_loader.cc:64] Could not load dynamic library 'libcudart.so.11.0'; dlerror: libcudart.so.11.0: cannot open shared object file: No such file or directory\n",
      "2022-05-25 01:01:43.615792: I tensorflow/stream_executor/cuda/cudart_stub.cc:29] Ignore above cudart dlerror if you do not have a GPU set up on your machine.\n"
     ]
    }
   ],
   "source": [
    "from fileinput import filename\n",
    "import os\n",
    "import random\n",
    "\n",
    "import numpy as np\n",
    "from sklearn.model_selection import StratifiedKFold\n",
    "from sklearn.metrics import f1_score\n",
    "from utils import settings as settings\n",
    "import pandas as pd\n",
    "from evaluation.metrics import accuracy\n",
    "from evaluation.conf_matrix import create_conf_matrix\n",
    "from loader.Preprocessor import Preprocessor\n",
    "from models.JensModel import JensModel\n",
    "from models.RainbowModel import RainbowModel\n",
    "from models.ResNetModel import ResNetModel\n",
    "from utils.filter_activities import filter_activities\n",
    "from utils.folder_operations import new_saved_experiment_folder\n",
    "from utils.DataConfig import Sonar22CategoriesConfig, OpportunityConfig, SonarConfig, LabPoseConfig\n",
    "from tensorflow.keras.layers import (Dense)\n",
    "from utils.Recording import Recording\n",
    "import matplotlib.pyplot as plt"
   ]
  },
  {
   "cell_type": "code",
   "execution_count": 2,
   "metadata": {},
   "outputs": [
    {
     "name": "stdout",
     "output_type": "stream",
     "text": [
      "/dhc/groups/bp2021ba1/data/lab_data_alex/1651065958950\n",
      "took: 502.109 - 0.091 - 4.678 - 12.961\n",
      "1.0\n",
      "/dhc/groups/bp2021ba1/data/lab_data_alex/1651139232298\n",
      "took: 530.206 - 0.087 - 8.765 - 12.169\n",
      "1.0\n"
     ]
    }
   ],
   "source": [
    "import utils.DataConfig\n",
    "import importlib\n",
    "importlib.reload(utils.DataConfig)\n",
    "from utils.DataConfig import Sonar22CategoriesConfig, OpportunityConfig, SonarConfig, LabPoseConfig\n",
    "\n",
    "# Init\n",
    "# TODO: refactor, find out why confusion matrix sometimes shows different results than accuracy\n",
    "# TODO: - make train and test datasets evenly distributed\n",
    "#       - make \n",
    "\"\"\" \n",
    "Number of recordings per person\n",
    "{'connie.csv': 6, 'alex.csv': 38, 'trapp.csv': 9, 'anja.csv': 13, 'aileen.csv': 52, 'florian.csv': 16, 'brueggemann.csv': 36, 'oli.csv': 20, 'rauche.csv': 9, 'b2.csv': 6, 'yvan.csv': 8, 'christine.csv': 7, 'mathias.csv': 2, 'kathi.csv': 17}\n",
    "\"\"\"\n",
    "\n",
    "data_config = LabPoseConfig(dataset_path='/dhc/groups/bp2021ba1/data/lab_data')#OpportunityConfig(dataset_path='/dhc/groups/bp2021ba1/data/opportunity-dataset')\n",
    "data_config = SonarConfig(dataset_path='/dhc/groups/bp2021ba1/data/lab_data_alex')#OpportunityConfig(dataset_path='/dhc/groups/bp2021ba1/data/opportunity-dataset')\n",
    "settings.init(data_config)\n",
    "random.seed(1678978086101)\n",
    "\n",
    "k_fold_splits = 3\n",
    "numEpochsBeforeTL = 10\n",
    "numEpochsForTL = 3\n",
    "minimumRecordingsPerLeftOutPerson = 5\n",
    "# Load dataset\n",
    "recordings = settings.DATA_CONFIG.load_dataset()#limit=75\n"
   ]
  },
  {
   "cell_type": "code",
   "execution_count": 7,
   "metadata": {},
   "outputs": [
    {
     "name": "stdout",
     "output_type": "stream",
     "text": [
      "2355\n",
      "2355\n",
      "2942\n",
      "2942\n",
      "0\n",
      "0\n",
      "Pose Frame added to Recording 1/2  \n"
     ]
    }
   ],
   "source": [
    "import pose_sequence_loader\n",
    "import importlib\n",
    "importlib.reload(pose_sequence_loader)\n",
    "\n",
    "from pose_sequence_loader import *\n",
    "from multiprocessing import Pool\n",
    "\n",
    "def process_recording(index_recording):\n",
    "    i = index_recording[0]\n",
    "    recording = index_recording[1]\n",
    "    append_poseframe(recording)\n",
    "    print(f\"Pose Frame added to Recording {i}/{len(recordings)}  \")\n",
    "\n",
    "\n",
    "pool = Pool()\n",
    "pool.imap_unordered(\n",
    "    process_recording, list(enumerate(recordings)), 1\n",
    ")\n",
    "pool.close()\n",
    "pool.join()\n",
    "   "
   ]
  },
  {
   "cell_type": "code",
   "execution_count": 39,
   "metadata": {},
   "outputs": [
    {
     "name": "stdout",
     "output_type": "stream",
     "text": [
      "1547 25784\n"
     ]
    }
   ],
   "source": [
    "recording = recordings[1]\n",
    "\n",
    "activities = recording.activities\n",
    "first_activity = activities[0]\n",
    "for i in range(len(activities)):\n",
    "    if first_activity != activities[i]:\n",
    "        break\n",
    "\n",
    "frame_first_time = recording.time_frame[0]\n",
    "frame_time_second_activity = recording.time_frame[i]\n",
    "frame_diff = round((frame_time_second_activity - frame_first_time) / 1000)\n",
    "\n",
    "print(i, frame_diff)"
   ]
  },
  {
   "cell_type": "code",
   "execution_count": 6,
   "metadata": {},
   "outputs": [
    {
     "data": {
      "text/plain": [
       "0        384379410\n",
       "1        384396077\n",
       "2        384412744\n",
       "3        384429411\n",
       "4        384446078\n",
       "           ...    \n",
       "19876    715652702\n",
       "19877    715669369\n",
       "19878    715686036\n",
       "19879    715702703\n",
       "19880    715719370\n",
       "Name: SampleTimeFine, Length: 19881, dtype: int64"
      ]
     },
     "execution_count": 6,
     "metadata": {},
     "output_type": "execute_result"
    }
   ],
   "source": [
    "recordings[0].time_frame"
   ]
  }
 ],
 "metadata": {
  "interpreter": {
   "hash": "2171cf73acafe344dfae972adc9cb578812877998169c8a7c19a1c4d43d1a332"
  },
  "kernelspec": {
   "display_name": "Python 3.9.7 ('alex')",
   "language": "python",
   "name": "python3"
  },
  "language_info": {
   "codemirror_mode": {
    "name": "ipython",
    "version": 3
   },
   "file_extension": ".py",
   "mimetype": "text/x-python",
   "name": "python",
   "nbconvert_exporter": "python",
   "pygments_lexer": "ipython3",
   "version": "3.9.7"
  },
  "orig_nbformat": 4
 },
 "nbformat": 4,
 "nbformat_minor": 2
}
